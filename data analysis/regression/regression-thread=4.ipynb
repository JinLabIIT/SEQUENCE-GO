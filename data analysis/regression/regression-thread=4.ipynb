{
 "cells": [
  {
   "cell_type": "code",
   "execution_count": 4,
   "metadata": {},
   "outputs": [],
   "source": [
    "import pandas as pd\n",
    "import matplotlib.pyplot as plt\n",
    "import numpy as np\n",
    "from sklearn.linear_model import LinearRegression\n",
    "from sklearn.metrics import mean_absolute_error\n",
    "import os\n",
    "\n",
    "%matplotlib inline"
   ]
  },
  {
   "cell_type": "code",
   "execution_count": 19,
   "metadata": {
    "scrolled": true
   },
   "outputs": [],
   "source": [
    "def load_data(number_thread, data_loc='./data/'):\n",
    "    df_list = []\n",
    "    for i in range(1, number_thread+1):\n",
    "        try:\n",
    "            temp_df = pd.read_csv(\n",
    "                '{}{}/{}.txt'.format(data_loc, number_thread, i),\n",
    "                header=None\n",
    "            )\n",
    "            temp_df.columns = ['time', 'event_number']\n",
    "            temp_df.insert(2, 'thread_number', number_thread)\n",
    "            # index start from 1\n",
    "            temp_df.insert(3, 'thread_index', i)\n",
    "            df_list.append(temp_df)\n",
    "        except:\n",
    "            pass\n",
    "    return pd.concat(df_list, ignore_index=True)"
   ]
  },
  {
   "cell_type": "code",
   "execution_count": 54,
   "metadata": {},
   "outputs": [
    {
     "data": {
      "text/html": [
       "<div>\n",
       "<style scoped>\n",
       "    .dataframe tbody tr th:only-of-type {\n",
       "        vertical-align: middle;\n",
       "    }\n",
       "\n",
       "    .dataframe tbody tr th {\n",
       "        vertical-align: top;\n",
       "    }\n",
       "\n",
       "    .dataframe thead th {\n",
       "        text-align: right;\n",
       "    }\n",
       "</style>\n",
       "<table border=\"1\" class=\"dataframe\">\n",
       "  <thead>\n",
       "    <tr style=\"text-align: right;\">\n",
       "      <th></th>\n",
       "      <th>time</th>\n",
       "      <th>event_number</th>\n",
       "      <th>thread_number</th>\n",
       "      <th>thread_index</th>\n",
       "    </tr>\n",
       "  </thead>\n",
       "  <tbody>\n",
       "    <tr>\n",
       "      <th>0</th>\n",
       "      <td>5984232213</td>\n",
       "      <td>498081</td>\n",
       "      <td>4</td>\n",
       "      <td>1</td>\n",
       "    </tr>\n",
       "    <tr>\n",
       "      <th>1</th>\n",
       "      <td>2869146931</td>\n",
       "      <td>240456</td>\n",
       "      <td>4</td>\n",
       "      <td>1</td>\n",
       "    </tr>\n",
       "    <tr>\n",
       "      <th>2</th>\n",
       "      <td>3294027368</td>\n",
       "      <td>278511</td>\n",
       "      <td>4</td>\n",
       "      <td>1</td>\n",
       "    </tr>\n",
       "    <tr>\n",
       "      <th>3</th>\n",
       "      <td>3634770280</td>\n",
       "      <td>311211</td>\n",
       "      <td>4</td>\n",
       "      <td>1</td>\n",
       "    </tr>\n",
       "    <tr>\n",
       "      <th>4</th>\n",
       "      <td>3802420401</td>\n",
       "      <td>323237</td>\n",
       "      <td>4</td>\n",
       "      <td>1</td>\n",
       "    </tr>\n",
       "    <tr>\n",
       "      <th>...</th>\n",
       "      <td>...</td>\n",
       "      <td>...</td>\n",
       "      <td>...</td>\n",
       "      <td>...</td>\n",
       "    </tr>\n",
       "    <tr>\n",
       "      <th>26474</th>\n",
       "      <td>821361609</td>\n",
       "      <td>71943</td>\n",
       "      <td>4</td>\n",
       "      <td>4</td>\n",
       "    </tr>\n",
       "    <tr>\n",
       "      <th>26475</th>\n",
       "      <td>896811483</td>\n",
       "      <td>78696</td>\n",
       "      <td>4</td>\n",
       "      <td>4</td>\n",
       "    </tr>\n",
       "    <tr>\n",
       "      <th>26476</th>\n",
       "      <td>2878854433</td>\n",
       "      <td>249913</td>\n",
       "      <td>4</td>\n",
       "      <td>4</td>\n",
       "    </tr>\n",
       "    <tr>\n",
       "      <th>26477</th>\n",
       "      <td>4776982649</td>\n",
       "      <td>410966</td>\n",
       "      <td>4</td>\n",
       "      <td>4</td>\n",
       "    </tr>\n",
       "    <tr>\n",
       "      <th>26478</th>\n",
       "      <td>1681963512</td>\n",
       "      <td>144171</td>\n",
       "      <td>4</td>\n",
       "      <td>4</td>\n",
       "    </tr>\n",
       "  </tbody>\n",
       "</table>\n",
       "<p>26479 rows × 4 columns</p>\n",
       "</div>"
      ],
      "text/plain": [
       "             time  event_number  thread_number  thread_index\n",
       "0      5984232213        498081              4             1\n",
       "1      2869146931        240456              4             1\n",
       "2      3294027368        278511              4             1\n",
       "3      3634770280        311211              4             1\n",
       "4      3802420401        323237              4             1\n",
       "...           ...           ...            ...           ...\n",
       "26474   821361609         71943              4             4\n",
       "26475   896811483         78696              4             4\n",
       "26476  2878854433        249913              4             4\n",
       "26477  4776982649        410966              4             4\n",
       "26478  1681963512        144171              4             4\n",
       "\n",
       "[26479 rows x 4 columns]"
      ]
     },
     "execution_count": 54,
     "metadata": {},
     "output_type": "execute_result"
    }
   ],
   "source": [
    "number_thread = 4\n",
    "df = load_data(number_thread)\n",
    "df"
   ]
  },
  {
   "cell_type": "code",
   "execution_count": 59,
   "metadata": {
    "scrolled": false
   },
   "outputs": [
    {
     "data": {
      "image/png": "[encoded data removed]",
      "text/plain": [
       "<Figure size 432x288 with 1 Axes>"
      ]
     },
     "metadata": {
      "needs_background": "light"
     },
     "output_type": "display_data"
    }
   ],
   "source": [
    "for i in df['thread_index'].unique():\n",
    "#     if i != 4:\n",
    "    current_df = df[df['thread_index'] == i]\n",
    "    sample_ratio = 1\n",
    "    df_sample = current_df.sample(frac=sample_ratio)\n",
    "    plt.scatter(df_sample['event_number'], df_sample['time'], s=1, label='thread_{}'.format(i))\n",
    "    plt.title('Num of Thread = {} | sampling = {}%'.format(number_thread, sample_ratio*100))\n",
    "    plt.ylabel('Time(ns)')\n",
    "    plt.xlabel('Number of Event')\n",
    "    plt.legend()\n",
    "plt.show()"
   ]
  },
  {
   "cell_type": "code",
   "execution_count": 55,
   "metadata": {
    "scrolled": true
   },
   "outputs": [
    {
     "data": {
      "image/png": "[encoded data removed]",
      "text/plain": [
       "<Figure size 432x288 with 1 Axes>"
      ]
     },
     "metadata": {
      "needs_background": "light"
     },
     "output_type": "display_data"
    }
   ],
   "source": [
    "maximum, minimum = df['event_number'].max(), df['event_number'].min()\n",
    "number_bin = 10\n",
    "    \n",
    "fig = plt.figure()\n",
    "# Create an axes instance\n",
    "ax = fig.add_axes([0,0,1,1])\n",
    "# Create the boxplot\n",
    "bp = ax.boxplot(\n",
    "    [df[(df['event_number'] > minimum + i * (maximum-minimum)/10) \n",
    "       & (df['event_number'] < minimum + (i + 1) * (maximum-minimum)/10)]['time'] for i in range(number_bin)],\n",
    "    positions=[ int(minimum + i * (maximum-minimum)/10) for i in range(number_bin)], \n",
    "    widths = [ (maximum-minimum)/10/2 for i in range(number_bin)], \n",
    "    showfliers=True)\n",
    "\n",
    "plt.ylabel('Time(ns)')\n",
    "plt.xlabel('Number of Event');\n",
    "\n",
    "# ax.legend([ '{}: dataset{}'.format(i, i) for i in range(1,6)] + ['6: Full Set'], bbox_to_anchor=(1.1, 1))\n",
    "plt.show()"
   ]
  },
  {
   "cell_type": "code",
   "execution_count": 60,
   "metadata": {},
   "outputs": [],
   "source": [
    "df_shuffle = df.sample(frac=1)\n",
    "X, Y = np.array([ [item] for item in df_shuffle['event_number'] ]), df_shuffle['time']\n",
    "split = int(0.95 * len(X))\n",
    "train_x = X[:split]\n",
    "test_x =X[split:]\n",
    "\n",
    "train_y = Y[:split]\n",
    "test_y =Y[split:]"
   ]
  },
  {
   "cell_type": "code",
   "execution_count": 61,
   "metadata": {},
   "outputs": [],
   "source": [
    "def mean_absolute_percentage_error(pred_y, test_y):\n",
    "    return np.mean(np.abs((test_y - pred_y) / test_y))"
   ]
  },
  {
   "cell_type": "code",
   "execution_count": 62,
   "metadata": {},
   "outputs": [
    {
     "name": "stdout",
     "output_type": "stream",
     "text": [
      "MAE = 731856681.11(ns)\n",
      "MAPE = 38.08%\n"
     ]
    }
   ],
   "source": [
    "reg = LinearRegression().fit(train_x, train_y)\n",
    "# reg.coef_\n",
    "# reg.intercept_\n",
    "# reg.predict(np.array([[3, 5]]))\n",
    "# reg.coef_, reg.intercept_\n",
    "# reg.score(test_x, test_y)\n",
    "prediction = reg.predict(test_x)\n",
    "MAE = mean_absolute_error(prediction, test_y)\n",
    "MAPE = mean_absolute_percentage_error(prediction, test_y)\n",
    "print('MAE = {:.2f}(ns)\\nMAPE = {:.2f}%'.format(MAE, MAPE*100))"
   ]
  },
  {
   "cell_type": "code",
   "execution_count": 63,
   "metadata": {},
   "outputs": [],
   "source": [
    "def abline(slope, intercept, color='r'):\n",
    "    \"\"\"Plot a line from slope and intercept\"\"\"\n",
    "    axes = plt.gca()\n",
    "    x_vals = np.array(axes.get_xlim())\n",
    "    y_vals = intercept + slope * x_vals\n",
    "    plt.plot(x_vals, y_vals, color=color)"
   ]
  },
  {
   "cell_type": "code",
   "execution_count": 64,
   "metadata": {
    "scrolled": true
   },
   "outputs": [
    {
     "data": {
      "image/png": "[encoded data removed]",
      "text/plain": [
       "<Figure size 432x288 with 1 Axes>"
      ]
     },
     "metadata": {
      "needs_background": "light"
     },
     "output_type": "display_data"
    }
   ],
   "source": [
    "sample_ratio = 1\n",
    "df_sample = df.sample(frac=sample_ratio)\n",
    "plt.scatter(df_sample['event_number'], df_sample['time'], s=1)\n",
    "plt.title('sampling = {}%'.format(sample_ratio*100))\n",
    "plt.ylabel('Time(ns)')\n",
    "plt.xlabel('Number of Event');\n",
    "abline(reg.coef_, reg.intercept_)\n",
    "plt.show()"
   ]
  }
 ],
 "metadata": {
  "kernelspec": {
   "display_name": "Python 3",
   "language": "python",
   "name": "python3"
  },
  "language_info": {
   "codemirror_mode": {
    "name": "ipython",
    "version": 3
   },
   "file_extension": ".py",
   "mimetype": "text/x-python",
   "name": "python",
   "nbconvert_exporter": "python",
   "pygments_lexer": "ipython3",
   "version": "3.8.2"
  }
 },
 "nbformat": 4,
 "nbformat_minor": 4
}
