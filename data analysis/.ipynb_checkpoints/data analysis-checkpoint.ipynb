{
 "cells": [
  {
   "cell_type": "code",
   "execution_count": 1,
   "metadata": {},
   "outputs": [],
   "source": [
    "import os\n",
    "import time\n",
    "import random\n",
    "\n",
    "import pandas as pd\n",
    "from matplotlib import pyplot as plt\n",
    "import numpy as np\n",
    "from sklearn.cluster import KMeans"
   ]
  },
  {
   "cell_type": "code",
   "execution_count": 2,
   "metadata": {},
   "outputs": [
    {
     "data": {
      "text/plain": [
       "\"\\ndef txt_to_csv(src_path, dest_path):\\n    with open(src_path, 'r') as f:\\n        s = f.read()\\n        l = [ eval(i) for i in s.split(' ')[:-1]]\\n\\n        pd.DataFrame({\\n            'exe_time': l\\n        }).to_csv(dest_path, index=False)\\n        \\nlist_path = [ file for file in os.listdir('./') if file[-3:] == 'txt']\\nfor file in list_path:\\n    print('Processing {}'.format(file))\\n    txt_to_csv(file, file[:-3] + 'csv')\\n\""
      ]
     },
     "execution_count": 2,
     "metadata": {},
     "output_type": "execute_result"
    }
   ],
   "source": [
    "'''\n",
    "def txt_to_csv(src_path, dest_path):\n",
    "    with open(src_path, 'r') as f:\n",
    "        s = f.read()\n",
    "        l = [ eval(i) for i in s.split(' ')[:-1]]\n",
    "\n",
    "        pd.DataFrame({\n",
    "            'exe_time': l\n",
    "        }).to_csv(dest_path, index=False)\n",
    "        \n",
    "list_path = [ file for file in os.listdir('./') if file[-3:] == 'txt']\n",
    "for file in list_path:\n",
    "    print('Processing {}'.format(file))\n",
    "    txt_to_csv(file, file[:-3] + 'csv')\n",
    "'''"
   ]
  },
  {
   "cell_type": "code",
   "execution_count": 3,
   "metadata": {},
   "outputs": [
    {
     "ename": "ValueError",
     "evalue": "No objects to concatenate",
     "output_type": "error",
     "traceback": [
      "\u001b[1;31m---------------------------------------------------------------------------\u001b[0m",
      "\u001b[1;31mValueError\u001b[0m                                Traceback (most recent call last)",
      "\u001b[1;32m<ipython-input-3-f5d67bff3ba0>\u001b[0m in \u001b[0;36m<module>\u001b[1;34m\u001b[0m\n\u001b[0;32m      2\u001b[0m \u001b[0mcol_name\u001b[0m \u001b[1;33m=\u001b[0m \u001b[1;34m'exe_time'\u001b[0m\u001b[1;33m\u001b[0m\u001b[1;33m\u001b[0m\u001b[0m\n\u001b[0;32m      3\u001b[0m \u001b[0mlist_df\u001b[0m \u001b[1;33m=\u001b[0m \u001b[1;33m[\u001b[0m \u001b[0mpd\u001b[0m\u001b[1;33m.\u001b[0m\u001b[0mread_csv\u001b[0m\u001b[1;33m(\u001b[0m\u001b[0mfile\u001b[0m\u001b[1;33m)\u001b[0m \u001b[1;32mfor\u001b[0m \u001b[0mfile\u001b[0m \u001b[1;32min\u001b[0m \u001b[0mos\u001b[0m\u001b[1;33m.\u001b[0m\u001b[0mlistdir\u001b[0m\u001b[1;33m(\u001b[0m\u001b[1;34m'./'\u001b[0m\u001b[1;33m)\u001b[0m \u001b[1;32mif\u001b[0m \u001b[0mfile\u001b[0m\u001b[1;33m[\u001b[0m\u001b[1;33m-\u001b[0m\u001b[1;36m3\u001b[0m\u001b[1;33m:\u001b[0m\u001b[1;33m]\u001b[0m \u001b[1;33m==\u001b[0m \u001b[1;34m'csv'\u001b[0m\u001b[1;33m]\u001b[0m\u001b[1;33m\u001b[0m\u001b[1;33m\u001b[0m\u001b[0m\n\u001b[1;32m----> 4\u001b[1;33m \u001b[0mlist_df\u001b[0m\u001b[1;33m.\u001b[0m\u001b[0mappend\u001b[0m\u001b[1;33m(\u001b[0m\u001b[0mpd\u001b[0m\u001b[1;33m.\u001b[0m\u001b[0mconcat\u001b[0m\u001b[1;33m(\u001b[0m\u001b[0mlist_df\u001b[0m\u001b[1;33m)\u001b[0m\u001b[1;33m)\u001b[0m\u001b[1;33m\u001b[0m\u001b[1;33m\u001b[0m\u001b[0m\n\u001b[0m",
      "\u001b[1;32mc:\\users\\sven\\appdata\\local\\programs\\python\\python38\\lib\\site-packages\\pandas\\core\\reshape\\concat.py\u001b[0m in \u001b[0;36mconcat\u001b[1;34m(objs, axis, join, ignore_index, keys, levels, names, verify_integrity, sort, copy)\u001b[0m\n\u001b[0;32m    269\u001b[0m     \u001b[0mValueError\u001b[0m\u001b[1;33m:\u001b[0m \u001b[0mIndexes\u001b[0m \u001b[0mhave\u001b[0m \u001b[0moverlapping\u001b[0m \u001b[0mvalues\u001b[0m\u001b[1;33m:\u001b[0m \u001b[1;33m[\u001b[0m\u001b[1;34m'a'\u001b[0m\u001b[1;33m]\u001b[0m\u001b[1;33m\u001b[0m\u001b[1;33m\u001b[0m\u001b[0m\n\u001b[0;32m    270\u001b[0m     \"\"\"\n\u001b[1;32m--> 271\u001b[1;33m     op = _Concatenator(\n\u001b[0m\u001b[0;32m    272\u001b[0m         \u001b[0mobjs\u001b[0m\u001b[1;33m,\u001b[0m\u001b[1;33m\u001b[0m\u001b[1;33m\u001b[0m\u001b[0m\n\u001b[0;32m    273\u001b[0m         \u001b[0maxis\u001b[0m\u001b[1;33m=\u001b[0m\u001b[0maxis\u001b[0m\u001b[1;33m,\u001b[0m\u001b[1;33m\u001b[0m\u001b[1;33m\u001b[0m\u001b[0m\n",
      "\u001b[1;32mc:\\users\\sven\\appdata\\local\\programs\\python\\python38\\lib\\site-packages\\pandas\\core\\reshape\\concat.py\u001b[0m in \u001b[0;36m__init__\u001b[1;34m(self, objs, axis, join, keys, levels, names, ignore_index, verify_integrity, copy, sort)\u001b[0m\n\u001b[0;32m    327\u001b[0m \u001b[1;33m\u001b[0m\u001b[0m\n\u001b[0;32m    328\u001b[0m         \u001b[1;32mif\u001b[0m \u001b[0mlen\u001b[0m\u001b[1;33m(\u001b[0m\u001b[0mobjs\u001b[0m\u001b[1;33m)\u001b[0m \u001b[1;33m==\u001b[0m \u001b[1;36m0\u001b[0m\u001b[1;33m:\u001b[0m\u001b[1;33m\u001b[0m\u001b[1;33m\u001b[0m\u001b[0m\n\u001b[1;32m--> 329\u001b[1;33m             \u001b[1;32mraise\u001b[0m \u001b[0mValueError\u001b[0m\u001b[1;33m(\u001b[0m\u001b[1;34m\"No objects to concatenate\"\u001b[0m\u001b[1;33m)\u001b[0m\u001b[1;33m\u001b[0m\u001b[1;33m\u001b[0m\u001b[0m\n\u001b[0m\u001b[0;32m    330\u001b[0m \u001b[1;33m\u001b[0m\u001b[0m\n\u001b[0;32m    331\u001b[0m         \u001b[1;32mif\u001b[0m \u001b[0mkeys\u001b[0m \u001b[1;32mis\u001b[0m \u001b[1;32mNone\u001b[0m\u001b[1;33m:\u001b[0m\u001b[1;33m\u001b[0m\u001b[1;33m\u001b[0m\u001b[0m\n",
      "\u001b[1;31mValueError\u001b[0m: No objects to concatenate"
     ]
    }
   ],
   "source": [
    "# loading data\n",
    "col_name = 'exe_time'\n",
    "list_df = [ pd.read_csv(file) for file in os.listdir('./data/') if file[-3:] == 'csv']\n",
    "list_df.append(pd.concat(list_df))"
   ]
  },
  {
   "cell_type": "code",
   "execution_count": null,
   "metadata": {
    "scrolled": true
   },
   "outputs": [],
   "source": [
    "# top_bound = q3 + whisker * (q3-q1)\n",
    "# lower_bound = q1 - whisker * (q3-q1)\n",
    "whisker = 1.5\n",
    "# \n",
    "# statistics\n",
    "stat_df = pd.DataFrame({\n",
    "    'mean': [ df[col_name].mean() for df in list_df],\n",
    "    'std':  [ df[col_name].std() for df in list_df],\n",
    "    'min':  [ df[col_name].min() for df in list_df],\n",
    "    'q1':   [ df[col_name].quantile(0.25) for df in list_df],\n",
    "    'q2':   [ df[col_name].quantile(0.5) for df in list_df],\n",
    "    'q3':   [ df[col_name].quantile(0.75) for df in list_df],\n",
    "    'max':  [ df[col_name].max() for df in list_df],\n",
    "    'size': [ df.shape[0] for df in list_df],\n",
    "    'outlier_percentage': [ \n",
    "        df[df[col_name] > (df[col_name].quantile(0.75) + (df[col_name].quantile(0.75) - df[col_name].quantile(0.25)) * whisker)].shape[0]/df.shape[0] \n",
    "        for df in list_df]\n",
    "})\n",
    "stat_df"
   ]
  },
  {
   "cell_type": "code",
   "execution_count": null,
   "metadata": {
    "scrolled": true
   },
   "outputs": [],
   "source": [
    "fig = plt.figure()\n",
    "# Create an axes instance\n",
    "ax = fig.add_axes([0,0,1,1])\n",
    "# Create the boxplot\n",
    "bp = ax.boxplot([df[col_name] for df in list_df], showfliers=False)\n",
    "ax.legend([ '{}: dataset{}'.format(i, i) for i in range(1,6)] + ['6: Full Set'], bbox_to_anchor=(1.1, 1))\n",
    "plt.show()"
   ]
  },
  {
   "cell_type": "code",
   "execution_count": null,
   "metadata": {},
   "outputs": [],
   "source": [
    "fig = plt.figure()\n",
    "# Create an axes instance\n",
    "ax = fig.add_axes([0,0,1,1])\n",
    "# Create the boxplot\n",
    "bp = ax.boxplot([df[col_name] for df in list_df])\n",
    "ax.legend([ '{}: dataset{}'.format(i, i) for i in range(1,6)] + ['6: Full Set'], bbox_to_anchor=(1.1, 1))\n",
    "plt.show()"
   ]
  },
  {
   "cell_type": "code",
   "execution_count": null,
   "metadata": {
    "scrolled": true
   },
   "outputs": [],
   "source": [
    "# visualization\n",
    "ratio = 0.0005\n",
    "thresh_hold = 2500\n",
    "number_sampling = 5\n",
    "experiment_index = 0\n",
    "\n",
    "sampling_list = []\n",
    "\n",
    "for experiment_index in range(len(list_df)-1):\n",
    "    fig=plt.figure()\n",
    "    ax=fig.add_axes([0,0,1,1])\n",
    "    sub_df = list_df[experiment_index].sample(frac=ratio)\n",
    "    sampling_list.append(sub_df)\n",
    "#         thresh_hold = 5 * sub_df['exe_time'].mean()\n",
    "    Y = np.array([ i for i in sub_df['exe_time'] if i < thresh_hold])\n",
    "\n",
    "\n",
    "    ax.scatter([ random.random() * 5 for i in range(len(Y))], Y, color='r')\n",
    "    ax.set_xlabel('random index')\n",
    "    ax.set_ylabel('exe time (ns)')\n",
    "    ax.set_title('Dataset{} sample = {}'.format(experiment_index+1, ratio))\n",
    "#     ax.set_xlim(-1, 6)\n",
    "    plt.show()\n",
    "\n",
    "#     print(Y.mean(), Y.std(), Y.max(), Y. min())"
   ]
  },
  {
   "cell_type": "code",
   "execution_count": null,
   "metadata": {},
   "outputs": [],
   "source": [
    "# K Mean\n",
    "K = 4\n",
    "list_kmeans = []\n",
    "for experiment_index in range(len(list_df)-1):\n",
    "    sub_df = sampling_list[experiment_index]\n",
    "    Y = np.array([ [i,0] for i in sub_df['exe_time'] if i < thresh_hold])\n",
    "    kmeans = KMeans(n_clusters=K, random_state=0).fit(Y)\n",
    "    list_kmeans.append(kmeans)\n",
    "    print('Processing dataset {}'.format(experiment_index + 1))\n",
    "\n",
    "# kmeans.predict([[0, 0], [12, 3]])\n",
    "# kmeans.cluster_centers_\n",
    "# kmeans.labels_"
   ]
  },
  {
   "cell_type": "code",
   "execution_count": null,
   "metadata": {
    "scrolled": false
   },
   "outputs": [],
   "source": [
    "for experiment_index in range(len(list_df)-1):\n",
    "    kmeans = list_kmeans[experiment_index]\n",
    "    Y = np.array([ i for i in sampling_list[experiment_index]['exe_time'] if i < thresh_hold])\n",
    "    l_x = [[] for i in range(K)]\n",
    "    l_y = [[] for i in range(K)]\n",
    "    l_color = ['r', 'g', 'b', 'y', 'm']\n",
    "    for index, clsuter in enumerate(kmeans.labels_):\n",
    "        l_x[clsuter].append(random.random()*5)\n",
    "        l_y[clsuter].append(Y[index])\n",
    "\n",
    "\n",
    "    fig=plt.figure()\n",
    "    ax=fig.add_axes([0,0,1,1])\n",
    "\n",
    "    # ax.scatter(X, Y, color='r')\n",
    "    lab = [ '{:.2f}%'.format(len(l)/sum([len(l) for l in l_y])*100) for l in l_y]\n",
    "    for i in range(len(l_y)):\n",
    "        ax.scatter(l_x[i], l_y[i], color=l_color[i], label=lab[i])\n",
    "\n",
    "    # ax.scatter([ 0 for item in kmeans.cluster_centers_], \n",
    "    #            [ item[0] for item in kmeans.cluster_centers_], color='g')\n",
    "    ax.set_xlabel('random index')\n",
    "    ax.set_ylabel('exe time (ns)')\n",
    "    ax.set_title('Dataset{} sample = {}'.format(experiment_index+1, ratio))\n",
    "    # ax.set_xlim(-1, 6)\n",
    "    ax.legend(bbox_to_anchor=(1.1, 1))\n",
    "    plt.show()"
   ]
  }
 ],
 "metadata": {
  "kernelspec": {
   "display_name": "Python 3",
   "language": "python",
   "name": "python3"
  },
  "language_info": {
   "codemirror_mode": {
    "name": "ipython",
    "version": 3
   },
   "file_extension": ".py",
   "mimetype": "text/x-python",
   "name": "python",
   "nbconvert_exporter": "python",
   "pygments_lexer": "ipython3",
   "version": "3.8.2"
  }
 },
 "nbformat": 4,
 "nbformat_minor": 4
}
